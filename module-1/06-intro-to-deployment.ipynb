{
 "cells": [
  {
   "cell_type": "markdown",
   "metadata": {},
   "source": [
    "#### **Deployment**\n",
    "\n",
    "##### **Review**\n",
    "\n",
    "We built up to an agent with memory:\n",
    "\n",
    "- `act` - tool node executes a tool\n",
    "- `observe` - pass the tool node outputs back to the LLM\n",
    "- `reason` - LLM reasons about what to do next (e.g., call another tool)\n",
    "- `persist state` - using in memory checkpointer for long-running conversations\n",
    "\n",
    "##### **Goals**\n",
    "\n",
    "Now, we'll cover how to actually deploy your agent!\n",
    "\n",
    "We've cover deployment locally and to `LangGraph Cloud`.\n",
    "\n",
    "##### **Concepts**\n",
    "\n",
    "There are a few central concepts to understand -\n",
    "\n",
    "`LangGraph` ---\n",
    "- Python and JavaScript library\n",
    "- Allows creation of agent workflows"
   ]
  },
  {
   "cell_type": "markdown",
   "metadata": {},
   "source": []
  }
 ],
 "metadata": {
  "language_info": {
   "name": "python"
  }
 },
 "nbformat": 4,
 "nbformat_minor": 2
}
