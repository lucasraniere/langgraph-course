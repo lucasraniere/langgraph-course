{
 "cells": [
  {
   "cell_type": "markdown",
   "id": "5dab55f2",
   "metadata": {},
   "source": [
    "### **Router**\n",
    "\n",
    "##### **Review**\n",
    "\n",
    "We built a graph that uses `messages` as state and a chat model with bound tools.\n",
    "\n",
    "We saw that the graph can:\n",
    "\n",
    "- Return a tool call\n",
    "- Return a natural language response\n",
    "\n",
    "##### **Goals**\n",
    "\n"
   ]
  },
  {
   "cell_type": "markdown",
   "id": "8ebb1f64",
   "metadata": {},
   "source": []
  }
 ],
 "metadata": {
  "language_info": {
   "name": "python"
  }
 },
 "nbformat": 4,
 "nbformat_minor": 5
}
