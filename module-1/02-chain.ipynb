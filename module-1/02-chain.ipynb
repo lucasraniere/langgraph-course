{
 "cells": [
  {
   "cell_type": "markdown",
   "id": "80d1e9cb",
   "metadata": {},
   "source": [
    "### **Chain**\n",
    "\n",
    "Building up a simple **chain** that combines 4 key concepts:\n",
    "* Using chat messages in our graph\n",
    "* Using chat models\n",
    "* Biding tools to our LLM\n",
    "* Executing tool calls in our graph\n",
    "\n",
    "##### **Messages**\n",
    "\n",
    "Chat models can use `messages`, which capture different roles within a conversation.\n",
    "\n",
    "LangChain supports various messages types, including `HumanMessage`, `AIMessage`, `SystemMessage`, and `ToolMessage`.\n",
    "\n",
    "These represent a message from user, chat model, for the chat model to instruct behavior, and from a tool call.\n",
    "\n",
    "Let's create a list of messages. Each message can be supplied with a few things:\n",
    "\n",
    "* `content` - content of the message\n",
    "* `name` - optionally, who is creating the message\n",
    "* `response_metadata` - optionally, a dict of metadata that is often specific to each model provider"
   ]
  },
  {
   "cell_type": "code",
   "execution_count": 1,
   "id": "4a295879",
   "metadata": {},
   "outputs": [
    {
     "name": "stdout",
     "output_type": "stream",
     "text": [
      "==================================\u001b[1m Ai Message \u001b[0m==================================\n",
      "Name: Model\n",
      "\n",
      "So you said you were researching ocean mammals?\n",
      "================================\u001b[1m Human Message \u001b[0m=================================\n",
      "Name: Lance\n",
      "\n",
      "Yes, that's right.\n",
      "==================================\u001b[1m Ai Message \u001b[0m==================================\n",
      "Name: Model\n",
      "\n",
      "Great, what would you like to learn aboyut?\n",
      "================================\u001b[1m Human Message \u001b[0m=================================\n",
      "Name: Lance\n",
      "\n",
      "I want to learn about the best places to see Orcas in the US.\n"
     ]
    }
   ],
   "source": [
    "import os\n",
    "from dotenv import load_dotenv\n",
    "load_dotenv()\n",
    "\n",
    "from pprint import pprint\n",
    "from langchain_core.messages import AIMessage, HumanMessage, SystemMessage\n",
    "\n",
    "messages = [AIMessage(content=f'So you said you were researching ocean mammals?', name='Model')]\n",
    "messages.extend([HumanMessage(content=f\"Yes, that's right.\", name='Lance')])\n",
    "messages.extend([AIMessage(content=f'Great, what would you like to learn aboyut?', name='Model')])\n",
    "messages.extend([HumanMessage(content=f'I want to learn about the best places to see Orcas in the US.', name='Lance')])\n",
    "\n",
    "for m in messages:\n",
    "    m.pretty_print()"
   ]
  },
  {
   "cell_type": "markdown",
   "id": "7f2ad6b6",
   "metadata": {},
   "source": [
    "##### **Chat Models**\n",
    "\n",
    "Chat models can use a sequence of message as input and support message roles.\n",
    "\n",
    "There are many to choose from!"
   ]
  },
  {
   "cell_type": "code",
   "execution_count": 2,
   "id": "a80b1b84",
   "metadata": {},
   "outputs": [
    {
     "data": {
      "text/plain": [
       "langchain_core.messages.ai.AIMessage"
      ]
     },
     "execution_count": 2,
     "metadata": {},
     "output_type": "execute_result"
    }
   ],
   "source": [
    "from langchain_openai import ChatOpenAI\n",
    "\n",
    "llm = ChatOpenAI(model='gpt-4o-mini')\n",
    "result = llm.invoke(messages)\n",
    "type(result)"
   ]
  },
  {
   "cell_type": "code",
   "execution_count": 3,
   "id": "0bbb5bd2",
   "metadata": {},
   "outputs": [
    {
     "name": "stdout",
     "output_type": "stream",
     "text": [
      "==================================\u001b[1m Ai Message \u001b[0m==================================\n",
      "\n",
      "Orcas, also known as killer whales, can be seen in several locations along the U.S. coast. Here are some of the best places to observe them:\n",
      "\n",
      "1. **San Juan Islands, Washington**: This region is one of the best places to see orcas, particularly during the summer months. The resident pods, particularly the Southern Resident killer whales, are often spotted in this area.\n",
      "\n",
      "2. **Puget Sound, Washington**: Similar to the San Juan Islands, Puget Sound is an excellent location for orca watching. Several boat tours operate here that specialize in whale watching.\n",
      "\n",
      "3. **Victoria, British Columbia**: While technically in Canada, it’s very close to the U.S. border and is a popular destination for whale watchers from the U.S. The waters around Vancouver Island are home to orcas.\n",
      "\n",
      "4. **Southern California**: Although less common, orcas can occasionally be seen off the coast of Southern California, particularly around the Channel Islands.\n",
      "\n",
      "5. **Alaska**: Various places along the Alaskan coast, such as the Kenai Fjords and Glacier Bay, offer sightings of orcas, especially during the summer months when they are more active in feeding.\n",
      "\n",
      "6. **Maui, Hawaii**: While not as common as in the Pacific Northwest, orcas have been spotted in Hawaiian waters. Tours may offer sightings, especially during migration seasons.\n",
      "\n",
      "If you're planning a trip, it's often best to go with a reputable whale-watching tour company, as they have the experience and knowledge to find orcas. Be sure to check the time of year, as sightings can vary seasonally.\n"
     ]
    }
   ],
   "source": [
    "result.pretty_print()"
   ]
  },
  {
   "cell_type": "code",
   "execution_count": 4,
   "id": "114f5ee0",
   "metadata": {},
   "outputs": [
    {
     "data": {
      "text/plain": [
       "{'token_usage': {'completion_tokens': 330,\n",
       "  'prompt_tokens': 69,\n",
       "  'total_tokens': 399,\n",
       "  'completion_tokens_details': {'accepted_prediction_tokens': 0,\n",
       "   'audio_tokens': 0,\n",
       "   'reasoning_tokens': 0,\n",
       "   'rejected_prediction_tokens': 0},\n",
       "  'prompt_tokens_details': {'audio_tokens': 0, 'cached_tokens': 0}},\n",
       " 'model_name': 'gpt-4o-mini-2024-07-18',\n",
       " 'system_fingerprint': 'fp_0392822090',\n",
       " 'id': 'chatcmpl-BPBkqGQhGABlYs6zK1g3jyVpMoRfQ',\n",
       " 'finish_reason': 'stop',\n",
       " 'logprobs': None}"
      ]
     },
     "execution_count": 4,
     "metadata": {},
     "output_type": "execute_result"
    }
   ],
   "source": [
    "result.response_metadata"
   ]
  },
  {
   "cell_type": "markdown",
   "id": "b933e7c2",
   "metadata": {},
   "source": [
    "##### **Tools**\n",
    "\n",
    "Tools are need whenever you want a model to control parts of your code or call out to external APIs.\n",
    "\n",
    "Many LLMs providers supports tool calling.\n",
    "\n",
    "The tool calling interface in LangChain is simple.\n",
    "\n",
    "You can pass any Python function into `ChatModel.bind_tools()`."
   ]
  },
  {
   "cell_type": "code",
   "execution_count": 5,
   "id": "d0ca0c78",
   "metadata": {},
   "outputs": [],
   "source": [
    "def multiply(a:int, b:int) -> int:\n",
    "    \"\"\"Multiply a and b.\n",
    "    Args:\n",
    "        a: first int\n",
    "        b: second int\n",
    "    \"\"\"\n",
    "    return a * b\n",
    "\n",
    "llm_with_tools = llm.bind_tools([multiply])"
   ]
  },
  {
   "cell_type": "code",
   "execution_count": 9,
   "id": "0e7a4d79",
   "metadata": {},
   "outputs": [
    {
     "data": {
      "text/plain": [
       "AIMessage(content='', additional_kwargs={'tool_calls': [{'id': 'call_nKqYhVOwNg0Yciizodk3lcNv', 'function': {'arguments': '{\"a\":2,\"b\":3}', 'name': 'multiply'}, 'type': 'function'}], 'refusal': None}, response_metadata={'token_usage': {'completion_tokens': 18, 'prompt_tokens': 69, 'total_tokens': 87, 'completion_tokens_details': {'accepted_prediction_tokens': 0, 'audio_tokens': 0, 'reasoning_tokens': 0, 'rejected_prediction_tokens': 0}, 'prompt_tokens_details': {'audio_tokens': 0, 'cached_tokens': 0}}, 'model_name': 'gpt-4o-mini-2024-07-18', 'system_fingerprint': 'fp_dbaca60df0', 'id': 'chatcmpl-BPCrY2oiomyKtLoK0ISmlUUKZvVg1', 'finish_reason': 'tool_calls', 'logprobs': None}, id='run-b9066978-9591-41dd-bbe5-8cebb9fda59a-0', tool_calls=[{'name': 'multiply', 'args': {'a': 2, 'b': 3}, 'id': 'call_nKqYhVOwNg0Yciizodk3lcNv', 'type': 'tool_call'}], usage_metadata={'input_tokens': 69, 'output_tokens': 18, 'total_tokens': 87, 'input_token_details': {'audio': 0, 'cache_read': 0}, 'output_token_details': {'audio': 0, 'reasoning': 0}})"
      ]
     },
     "execution_count": 9,
     "metadata": {},
     "output_type": "execute_result"
    }
   ],
   "source": [
    "tool_call = llm_with_tools.invoke([HumanMessage(content=\"What is 2 multipled by 3\", name=\"Lucas\")])\n",
    "tool_call"
   ]
  },
  {
   "cell_type": "code",
   "execution_count": 8,
   "id": "106196f0",
   "metadata": {},
   "outputs": [
    {
     "data": {
      "text/plain": [
       "[{'id': 'call_rlylhJKEchpOE9qKPfC1Y5FR',\n",
       "  'function': {'arguments': '{\"a\":2,\"b\":3}', 'name': 'multiply'},\n",
       "  'type': 'function'}]"
      ]
     },
     "execution_count": 8,
     "metadata": {},
     "output_type": "execute_result"
    }
   ],
   "source": [
    "tool_call.additional_kwargs['tool_calls']"
   ]
  },
  {
   "cell_type": "markdown",
   "id": "cfd4f21c",
   "metadata": {},
   "source": [
    "##### **Using messages as state**\n",
    "\n",
    "With these foundations in place, we can now use `messages` in our graph state.\n",
    "\n",
    "Let's define our state `MessagesState`.\n",
    "\n",
    "It's defined as a `TypedDict` with a single key: `messages`.\n",
    "\n",
    "`messages` is simply a list of type `AntMessage`, meaning it's a list of messages."
   ]
  },
  {
   "cell_type": "code",
   "execution_count": 10,
   "id": "638e9db7",
   "metadata": {},
   "outputs": [],
   "source": [
    "from typing import TypedDict\n",
    "from langchain_core.messages import AnyMessage\n",
    "\n",
    "class MessagesState(TypedDict):\n",
    "    messages: list[AnyMessage]"
   ]
  },
  {
   "cell_type": "markdown",
   "id": "9f09977c",
   "metadata": {},
   "source": [
    "##### **Reducers**\n",
    "\n",
    "Now, we have a minor problem!\n",
    "\n",
    "As graph runs, we want to append messages to our `messages` state key.\n",
    "\n",
    "But each node will also override the prior state value.\n",
    "\n",
    "**Reducer functions** address this.\n",
    "\n",
    "They allow us to specify how state updates are performed.\n",
    "\n",
    "If no reducer function is explcitly specifeid, then it is assumed that all updates to that key should *override* it.\n",
    "\n",
    "Since we want to append messages, we can user a pre-built `add_messages` reducer!\n",
    "\n",
    "This ensures that state updates you send to the graph are appended to the existing list of messages.\n",
    "\n",
    "We annotate (via `Annotated`) our key with a reducer function as metadata."
   ]
  },
  {
   "cell_type": "code",
   "execution_count": 17,
   "id": "28ea0946",
   "metadata": {},
   "outputs": [],
   "source": [
    "from typing import Annotated\n",
    "from langchain_core.messages import AnyMessage\n",
    "from langgraph.graph.message import add_messages\n",
    "\n",
    "class MessagesState(TypedDict):\n",
    "    messages: Annotated[list[AnyMessage], add_messages]"
   ]
  },
  {
   "cell_type": "markdown",
   "id": "6ff1693d",
   "metadata": {},
   "source": [
    "Since having a list of messages in your state is so common, LangGraph has a pre-built `MessagesState`!\n",
    "\n",
    "`MessagesState` is defined:\n",
    "\n",
    "* With a pre-build single `messages` key\n",
    "* Which is a list of `AnyMessage` objects and uses the `add_messages` reducer"
   ]
  },
  {
   "cell_type": "code",
   "execution_count": 18,
   "id": "dd2ccc17",
   "metadata": {},
   "outputs": [],
   "source": [
    "from langgraph.graph import MessagesState\n",
    "\n",
    "class State(MessagesState):\n",
    "    # add any keys needed beyond messages, which is pre-built\n",
    "    pass"
   ]
  },
  {
   "cell_type": "markdown",
   "id": "c56c6a22",
   "metadata": {},
   "source": [
    "The `MessagesState` and `State` both work equivalently!\n",
    "\n",
    "To go a bit deeper, we can see how the `add_messages` reducer works in isolation."
   ]
  },
  {
   "cell_type": "code",
   "execution_count": 19,
   "id": "f1a7d982",
   "metadata": {},
   "outputs": [
    {
     "data": {
      "text/plain": [
       "[AIMessage(content='Hello! How can I assist you?', additional_kwargs={}, response_metadata={}, name='Model', id='02589141-33f6-4ee0-bef0-11e756793447'),\n",
       " HumanMessage(content=\"I'm looking for information on marine biology.\", additional_kwargs={}, response_metadata={}, name='Lucas', id='1ce83c6b-730f-4fdc-9631-96c40cbe1df2'),\n",
       " AIMessage(content='Sure, I can help with that. What specifically are you interested in?', additional_kwargs={}, response_metadata={}, name='Model', id='159bcd36-38e5-4ecc-98f0-5f857999102a')]"
      ]
     },
     "execution_count": 19,
     "metadata": {},
     "output_type": "execute_result"
    }
   ],
   "source": [
    "# initial state\n",
    "initial_messages = [AIMessage(content='Hello! How can I assist you?', name='Model'),\n",
    "                    HumanMessage(content=\"I'm looking for information on marine biology.\", name='Lucas')]\n",
    "\n",
    "# new messsage to add\n",
    "new_message = AIMessage(content='Sure, I can help with that. What specifically are you interested in?', name='Model')\n",
    "\n",
    "# test\n",
    "add_messages(initial_messages, new_message)"
   ]
  },
  {
   "cell_type": "markdown",
   "id": "e7efc456",
   "metadata": {},
   "source": [
    "##### **Our graph**\n",
    "\n",
    "Now, let's use `MessagesState` with a graph"
   ]
  },
  {
   "cell_type": "code",
   "execution_count": 21,
   "id": "2587b5db",
   "metadata": {},
   "outputs": [
    {
     "data": {
      "image/png": "[encoded data removed]",
      "text/plain": [
       "<IPython.core.display.Image object>"
      ]
     },
     "metadata": {},
     "output_type": "display_data"
    }
   ],
   "source": [
    "from IPython.display import Image, display\n",
    "from langgraph.graph import StateGraph, START, END\n",
    "\n",
    "# state\n",
    "class MessagesState(MessagesState):\n",
    "    # add any keys needed beyond messages, which is pre-built\n",
    "    pass\n",
    "\n",
    "# node\n",
    "def tool_calling_llm(state: MessagesState):\n",
    "    return {\"messages\": [llm_with_tools.invoke(state['messages'])]}\n",
    "\n",
    "# build graph\n",
    "builder = StateGraph(MessagesState)\n",
    "builder.add_node(\"tool_calling_llm\", tool_calling_llm)\n",
    "builder.add_edge(START, \"tool_calling_llm\")\n",
    "builder.add_edge(\"tool_calling_llm\", END)\n",
    "graph = builder.compile()\n",
    "\n",
    "# view\n",
    "display(Image(graph.get_graph().draw_mermaid_png()))\n"
   ]
  },
  {
   "cell_type": "markdown",
   "id": "912b4b93",
   "metadata": {},
   "source": [
    "Here, the LLM responds normally without any tool calls."
   ]
  },
  {
   "cell_type": "code",
   "execution_count": 23,
   "id": "7edff672",
   "metadata": {},
   "outputs": [
    {
     "data": {
      "text/plain": [
       "{'messages': [HumanMessage(content='Hello AI!', additional_kwargs={}, response_metadata={}, id='965ffcff-e9e4-4938-8a69-5ed1370fcb5b'),\n",
       "  AIMessage(content='Hello! How can I assist you today?', additional_kwargs={'refusal': None}, response_metadata={'token_usage': {'completion_tokens': 11, 'prompt_tokens': 61, 'total_tokens': 72, 'completion_tokens_details': {'accepted_prediction_tokens': 0, 'audio_tokens': 0, 'reasoning_tokens': 0, 'rejected_prediction_tokens': 0}, 'prompt_tokens_details': {'audio_tokens': 0, 'cached_tokens': 0}}, 'model_name': 'gpt-4o-mini-2024-07-18', 'system_fingerprint': 'fp_0392822090', 'id': 'chatcmpl-BPELRELAYxPzqWr1CIzjtDj4jKoql', 'finish_reason': 'stop', 'logprobs': None}, id='run-c336f198-f538-4bb0-9a5c-94756094088d-0', usage_metadata={'input_tokens': 61, 'output_tokens': 11, 'total_tokens': 72, 'input_token_details': {'audio': 0, 'cache_read': 0}, 'output_token_details': {'audio': 0, 'reasoning': 0}})]}"
      ]
     },
     "execution_count": 23,
     "metadata": {},
     "output_type": "execute_result"
    }
   ],
   "source": [
    "messages = graph.invoke({\"messages\": HumanMessage(content=\"Hello AI!\")})\n",
    "messages"
   ]
  },
  {
   "cell_type": "markdown",
   "id": "f3df2b61",
   "metadata": {},
   "source": [
    "Now, we can see that a tool call is performed if our input is related to the tool"
   ]
  },
  {
   "cell_type": "code",
   "execution_count": 24,
   "id": "4a3dd6ee",
   "metadata": {},
   "outputs": [
    {
     "data": {
      "text/plain": [
       "{'messages': [HumanMessage(content='Multiply 2 and 3!', additional_kwargs={}, response_metadata={}, id='74cc31e0-ea4d-4a8a-8c61-b28db5a4e4f2'),\n",
       "  AIMessage(content='', additional_kwargs={'tool_calls': [{'id': 'call_xlCGfYd22rSEBxVFgsBMhJUz', 'function': {'arguments': '{\"a\":2,\"b\":6}', 'name': 'multiply'}, 'type': 'function'}], 'refusal': None}, response_metadata={'token_usage': {'completion_tokens': 18, 'prompt_tokens': 65, 'total_tokens': 83, 'completion_tokens_details': {'accepted_prediction_tokens': 0, 'audio_tokens': 0, 'reasoning_tokens': 0, 'rejected_prediction_tokens': 0}, 'prompt_tokens_details': {'audio_tokens': 0, 'cached_tokens': 0}}, 'model_name': 'gpt-4o-mini-2024-07-18', 'system_fingerprint': 'fp_0392822090', 'id': 'chatcmpl-BPEQEzlatoCFS6Yr8yRk8C3c9hGWJ', 'finish_reason': 'tool_calls', 'logprobs': None}, id='run-876df83e-c5c9-4110-a772-a3a4a8cbbab9-0', tool_calls=[{'name': 'multiply', 'args': {'a': 2, 'b': 6}, 'id': 'call_xlCGfYd22rSEBxVFgsBMhJUz', 'type': 'tool_call'}], usage_metadata={'input_tokens': 65, 'output_tokens': 18, 'total_tokens': 83, 'input_token_details': {'audio': 0, 'cache_read': 0}, 'output_token_details': {'audio': 0, 'reasoning': 0}})]}"
      ]
     },
     "execution_count": 24,
     "metadata": {},
     "output_type": "execute_result"
    }
   ],
   "source": [
    "messages = graph.invoke({\"messages\": HumanMessage(content=\"Multiply 2 and 3!\")})\n",
    "messages"
   ]
  },
  {
   "cell_type": "code",
   "execution_count": null,
   "id": "4098318f",
   "metadata": {},
   "outputs": [],
   "source": []
  }
 ],
 "metadata": {
  "kernelspec": {
   "display_name": "venv",
   "language": "python",
   "name": "python3"
  },
  "language_info": {
   "codemirror_mode": {
    "name": "ipython",
    "version": 3
   },
   "file_extension": ".py",
   "mimetype": "text/x-python",
   "name": "python",
   "nbconvert_exporter": "python",
   "pygments_lexer": "ipython3",
   "version": "3.12.8"
  }
 },
 "nbformat": 4,
 "nbformat_minor": 5
}
