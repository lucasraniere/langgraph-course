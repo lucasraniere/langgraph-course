{
 "cells": [
  {
   "cell_type": "markdown",
   "id": "0485898d",
   "metadata": {},
   "source": [
    "#### **Agent Memory**\n",
    "\n",
    "##### **Review**\n",
    "\n",
    "Previously, we built an agent that can:\n",
    "\n",
    "- `act` - let model call specific tools\n",
    "- `observe` - pass the tool output back to the model\n",
    "- `reason` - let the model reason about the tool output to decide what to do next (e.g., call another tool or just responde directly)"
   ]
  },
  {
   "cell_type": "markdown",
   "id": "156f2679",
   "metadata": {},
   "source": []
  }
 ],
 "metadata": {
  "language_info": {
   "name": "python"
  }
 },
 "nbformat": 4,
 "nbformat_minor": 5
}
