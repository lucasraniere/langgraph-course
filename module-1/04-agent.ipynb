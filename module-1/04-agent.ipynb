{
 "cells": [
  {
   "cell_type": "markdown",
   "id": "55004e6c",
   "metadata": {},
   "source": [
    "### **Agent**\n",
    "\n",
    "##### **Review**\n",
    "\n",
    "We built a router.\n",
    "\n",
    "- Our chat model will decide to make a tool call or not based upo the user input\n",
    "- We use a conditional edge to route to a node that will call our tool or simply end\n",
    "\n",
    "##### **Goals**\n",
    "\n",
    "Now, we can extend this into a generic agent architeture.\n",
    "\n",
    "In the above router, we invoked the model and, if it chose to call a tool, we returned a `ToolMessage` to the user.\n",
    "\n",
    "But, what if we simply pass that `ToolMessage` back to the model?\n",
    "\n",
    "We can let it either (1) call another tool or (2) respond directly.\n",
    "\n",
    "This is the intuition behind *ReAct*, a general agent architeture.\n",
    "\n",
    "- `act` - let the model call specific tools\n",
    "- `observe` - pass the tool output back to the model\n",
    "- `reason` - let the model reason about the tool output to decide what to do next (e.g., call another tool or just respond directly)\n",
    "\n",
    "This *general purpose atchiteture* can be applied to many types of tools."
   ]
  },
  {
   "cell_type": "code",
   "execution_count": 2,
   "id": "bcd589be",
   "metadata": {},
   "outputs": [
    {
     "data": {
      "text/plain": [
       "True"
      ]
     },
     "execution_count": 2,
     "metadata": {},
     "output_type": "execute_result"
    }
   ],
   "source": [
    "import os\n",
    "from dotenv import load_dotenv\n",
    "\n",
    "load_dotenv()"
   ]
  },
  {
   "cell_type": "code",
   "execution_count": 3,
   "id": "7a21e119",
   "metadata": {},
   "outputs": [],
   "source": [
    "from langchain_openai import ChatOpenAI\n",
    "\n",
    "def multiply(a: int, b: int) -> int:\n",
    "    \"\"\"Multiply a and b.\n",
    "\n",
    "    Args:\n",
    "        a (int): First number.\n",
    "        b (int): Second number.\n",
    "    \"\"\"\n",
    "    return a * b\n",
    "\n",
    "\n",
    "def add(a: int, b: int) -> int:\n",
    "    \"\"\"Add a and b.\n",
    "\n",
    "    Args:\n",
    "        a (int): First number.\n",
    "        b (int): Second number.\n",
    "    \"\"\"\n",
    "    return a + b\n",
    "\n",
    "\n",
    "def divide(a: int, b: int) -> float:\n",
    "    \"\"\"Divide a and b.\n",
    "\n",
    "    Args:\n",
    "        a (int): First number.\n",
    "        b (int): Second number.\n",
    "    \"\"\"\n",
    "    return a / b\n",
    "\n",
    "tools = [add, multiply, divide]\n",
    "llm = ChatOpenAI(model='gpt-4o-mini')\n",
    "llm_with_tools = llm.bind_tools(tools)"
   ]
  },
  {
   "cell_type": "markdown",
   "id": "3501b424",
   "metadata": {},
   "source": [
    "Let's create our LLM and prompt it with the overall desired agent behavior"
   ]
  },
  {
   "cell_type": "code",
   "execution_count": null,
   "id": "c5bffa8c",
   "metadata": {},
   "outputs": [],
   "source": []
  }
 ],
 "metadata": {
  "kernelspec": {
   "display_name": "venv",
   "language": "python",
   "name": "python3"
  },
  "language_info": {
   "codemirror_mode": {
    "name": "ipython",
    "version": 3
   },
   "file_extension": ".py",
   "mimetype": "text/x-python",
   "name": "python",
   "nbconvert_exporter": "python",
   "pygments_lexer": "ipython3",
   "version": "3.12.8"
  }
 },
 "nbformat": 4,
 "nbformat_minor": 5
}
