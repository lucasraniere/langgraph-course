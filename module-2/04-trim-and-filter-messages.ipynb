{
 "cells": [
  {
   "cell_type": "markdown",
   "id": "f35be071",
   "metadata": {},
   "source": [
    "### **Filtering and trimming messages**\n",
    "\n",
    "##### **Review**\n",
    "\n",
    "Now, we have a deeper understanding of a few things:\n",
    "\n",
    "- How to customize the graph state schema\n",
    "- How to define custom state reducers\n",
    "- How to use multiple graph state schemas\n",
    "\n",
    "##### **Goals**\n",
    "\n",
    "Now, we can start using the concepts with models in LangGraph!\n",
    "\n",
    "In the next few sessions, we'll build towards a chatbot that has long-term memory.\n",
    "\n",
    "Because our chatbot will use messages, let's first talk a bit more about advanced way to work with messages in graph state."
   ]
  },
  {
   "cell_type": "code",
   "execution_count": 1,
   "id": "5affd37c",
   "metadata": {},
   "outputs": [
    {
     "data": {
      "text/plain": [
       "True"
      ]
     },
     "execution_count": 1,
     "metadata": {},
     "output_type": "execute_result"
    }
   ],
   "source": [
    "from dotenv import load_dotenv\n",
    "\n",
    "load_dotenv()"
   ]
  },
  {
   "cell_type": "markdown",
   "id": "00a0b565",
   "metadata": {},
   "source": [
    "**Messages as state**\n",
    "\n",
    "First, let's define some messages."
   ]
  },
  {
   "cell_type": "code",
   "execution_count": 2,
   "id": "ce5d83a2",
   "metadata": {},
   "outputs": [
    {
     "name": "stdout",
     "output_type": "stream",
     "text": [
      "==================================\u001b[1m Ai Message \u001b[0m==================================\n",
      "Name: Bot\n",
      "\n",
      "So, you said you were researching ocean mammals?\n",
      "================================\u001b[1m Human Message \u001b[0m=================================\n",
      "Name: Lucas\n",
      "\n",
      "Yes, I know about whales. But what others should I learn about?\n"
     ]
    }
   ],
   "source": [
    "from pprint import pprint\n",
    "from langchain_core.messages import AIMessage, HumanMessage\n",
    "\n",
    "messages = [AIMessage(content=f\"So, you said you were researching ocean mammals?\", name='Bot'),\n",
    "            HumanMessage(content=\"Yes, I know about whales. But what others should I learn about?\", name='Lucas')]\n",
    "\n",
    "for m in messages:\n",
    "    m.pretty_print()"
   ]
  },
  {
   "cell_type": "markdown",
   "id": "998441a0",
   "metadata": {},
   "source": [
    "We can pass them to a chat model."
   ]
  },
  {
   "cell_type": "code",
   "execution_count": 4,
   "id": "6c3fdbec",
   "metadata": {},
   "outputs": [
    {
     "data": {
      "text/plain": [
       "AIMessage(content=\"In addition to whales, there are several fascinating ocean mammals you can learn about:\\n\\n1. **Dolphins**: Known for their intelligence and playful behavior, dolphins belong to the family Delphinidae. They're often seen swimming alongside boats and are known to use echolocation.\\n\\n2. **Porpoises**: Similar to dolphins but generally smaller and with different teeth. They tend to be less acrobatic than dolphins.\\n\\n3. **Manatees**: Also known as sea cows, manatees are gentle herbivores found in warm coastal waters and rivers. They have a slow metabolism and can be seen grazing on sea vegetation.\\n\\n4. **Sea Lions**: These pinnipeds are known for their barking vocalizations and playful nature. They are social animals, often seen in large groups on beaches or rocky shores.\\n\\n5. **Walruses**: Recognizable by their long tusks and whiskers, walruses are large marine mammals that primarily feed on benthic invertebrates.\\n\\n6. **Seals**: There are various types of seals, including harbor seals and elephant seals. They are typically more agile in the water than on land.\\n\\n7. **Narwhals**: Known for their long, spiral tusk, narwhals are unique to Arctic waters. The tusk is actually an elongated tooth and is thought to have sensory and social functions.\\n\\n8. **Orcas (Killer Whales)**: These highly intelligent and social apex predators belong to the dolphin family and are known for their complex social structures and hunting techniques.\\n\\n9. **Sperm Whales**: The largest toothed whales, sperm whales are known for their deep diving capabilities in search of squid and other prey.\\n\\n10. **Beluga Whales**: These small white whales are highly vocal and are known for their distinctive calls. They thrive in cold Arctic and sub-Arctic waters.\\n\\nEach of these mammals has unique adaptations and behaviors that make them fascinating to study. What specific aspects are you interested in?\", additional_kwargs={'refusal': None}, response_metadata={'token_usage': {'completion_tokens': 408, 'prompt_tokens': 40, 'total_tokens': 448, 'completion_tokens_details': {'accepted_prediction_tokens': 0, 'audio_tokens': 0, 'reasoning_tokens': 0, 'rejected_prediction_tokens': 0}, 'prompt_tokens_details': {'audio_tokens': 0, 'cached_tokens': 0}}, 'model_name': 'gpt-4o-mini-2024-07-18', 'system_fingerprint': 'fp_34a54ae93c', 'id': 'chatcmpl-Boyhdym3EBGKvVm1b8bLncrCBwuxf', 'finish_reason': 'stop', 'logprobs': None}, id='run-de622fbd-2349-4fa7-ae79-88a1090cfbac-0', usage_metadata={'input_tokens': 40, 'output_tokens': 408, 'total_tokens': 448, 'input_token_details': {'audio': 0, 'cache_read': 0}, 'output_token_details': {'audio': 0, 'reasoning': 0}})"
      ]
     },
     "execution_count": 4,
     "metadata": {},
     "output_type": "execute_result"
    }
   ],
   "source": [
    "from langchain_openai import ChatOpenAI\n",
    "\n",
    "llm = ChatOpenAI(model=\"gpt-4o-mini\")\n",
    "llm.invoke(messages)"
   ]
  },
  {
   "cell_type": "markdown",
   "id": "09aa94f7",
   "metadata": {},
   "source": [
    "We can run our chat model in a simple graph with `MessagesState`."
   ]
  },
  {
   "cell_type": "code",
   "execution_count": null,
   "id": "b7945a81",
   "metadata": {},
   "outputs": [],
   "source": []
  }
 ],
 "metadata": {
  "kernelspec": {
   "display_name": "venv",
   "language": "python",
   "name": "python3"
  },
  "language_info": {
   "codemirror_mode": {
    "name": "ipython",
    "version": 3
   },
   "file_extension": ".py",
   "mimetype": "text/x-python",
   "name": "python",
   "nbconvert_exporter": "python",
   "pygments_lexer": "ipython3",
   "version": "3.12.8"
  }
 },
 "nbformat": 4,
 "nbformat_minor": 5
}
