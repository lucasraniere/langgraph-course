{
 "cells": [
  {
   "cell_type": "markdown",
   "id": "f35be071",
   "metadata": {},
   "source": [
    "### **Filtering and trimming messages**\n",
    "\n",
    "##### **Review**\n",
    "\n",
    "Now, we have a deeper understanding of a few things:\n",
    "\n",
    "- How to customize the graph state schema\n",
    "- How to define custom state reducers\n",
    "- How to use multiple graph state schemas\n",
    "\n",
    "##### **Goals**\n",
    "\n",
    "Now, we can start using the concepts with models in LangGraph!\n",
    "\n",
    "In the next few sessions, we'll build towards a chatbot that has long-term memory.\n",
    "\n",
    "Because our chatbot will use messages, let's first talk a bit more about advanced way to work with messages in graph state."
   ]
  },
  {
   "cell_type": "code",
   "execution_count": 1,
   "id": "5affd37c",
   "metadata": {},
   "outputs": [
    {
     "data": {
      "text/plain": [
       "True"
      ]
     },
     "execution_count": 1,
     "metadata": {},
     "output_type": "execute_result"
    }
   ],
   "source": [
    "from dotenv import load_dotenv\n",
    "\n",
    "load_dotenv()"
   ]
  },
  {
   "cell_type": "markdown",
   "id": "00a0b565",
   "metadata": {},
   "source": [
    "**Messages as state**\n",
    "\n",
    "First, let's define some messages."
   ]
  },
  {
   "cell_type": "code",
   "execution_count": 2,
   "id": "ce5d83a2",
   "metadata": {},
   "outputs": [
    {
     "name": "stdout",
     "output_type": "stream",
     "text": [
      "==================================\u001b[1m Ai Message \u001b[0m==================================\n",
      "Name: Bot\n",
      "\n",
      "So, you said you were researching ocean mammals?\n",
      "================================\u001b[1m Human Message \u001b[0m=================================\n",
      "Name: Lucas\n",
      "\n",
      "Yes, I know about whales. But what others should I learn about?\n"
     ]
    }
   ],
   "source": [
    "from pprint import pprint\n",
    "from langchain_core.messages import AIMessage, HumanMessage\n",
    "\n",
    "messages = [AIMessage(content=f\"So, you said you were researching ocean mammals?\", name='Bot'),\n",
    "            HumanMessage(content=\"Yes, I know about whales. But what others should I learn about?\", name='Lucas')]\n",
    "\n",
    "for m in messages:\n",
    "    m.pretty_print()"
   ]
  },
  {
   "cell_type": "markdown",
   "id": "998441a0",
   "metadata": {},
   "source": [
    "We can pass them to a chat model."
   ]
  },
  {
   "cell_type": "code",
   "execution_count": 3,
   "id": "6c3fdbec",
   "metadata": {},
   "outputs": [
    {
     "data": {
      "text/plain": [
       "AIMessage(content='There are several fascinating marine mammals aside from whales that you might find interesting:\\n\\n1. **Dolphins**: Known for their intelligence and playful behavior, dolphins belong to the family Cetacea, which also includes whales and porpoises.\\n\\n2. **Porpoises**: Similar to dolphins but generally smaller and with different teeth and body shapes. They are also part of the Cetacea family.\\n\\n3. **Seals**: These pinnipeds are divided into two main groups: true seals (phocids) and earless seals (otariids). They are known for their aquatic abilities and often haul out on land.\\n\\n4. **Sea Lions**: A type of eared seal, sea lions are social animals often seen lounging on docks or beaches and are known for their barking vocalizations.\\n\\n5. **Walruses**: Identifiable by their long tusks and whiskers, walruses are social animals that often gather in large groups on ice.\\n\\n6. **Manatees**: Also known as sea cows, these gentle herbivores inhabit warm coastal waters and rivers.\\n\\n7. **Dugongs**: Similar to manatees but differ in habitat and some anatomical features, dugongs are also herbivorous marine mammals.\\n\\n8. **Narwhals**: Known for the long, spiral tusk that protrudes from their heads, narwhals are often called the \"unicorns of the sea.\"\\n\\n9. **Orcas (Killer Whales)**: One of the most well-known marine mammals, orcas are actually the largest members of the dolphin family and have complex social structures.\\n\\n10. **Sea Otters**: These playful creatures use tools to crack open shellfish and play a vital role in maintaining healthy kelp ecosystems.\\n\\nExploring these animals will give you a broader understanding of marine mammals and their various adaptations and behaviors!', additional_kwargs={'refusal': None}, response_metadata={'token_usage': {'completion_tokens': 381, 'prompt_tokens': 40, 'total_tokens': 421, 'completion_tokens_details': {'accepted_prediction_tokens': 0, 'audio_tokens': 0, 'reasoning_tokens': 0, 'rejected_prediction_tokens': 0}, 'prompt_tokens_details': {'audio_tokens': 0, 'cached_tokens': 0}}, 'model_name': 'gpt-4o-mini-2024-07-18', 'system_fingerprint': 'fp_e665f7564b', 'id': 'chatcmpl-CBoYb3IBSaoFPkOTg5ekLevUD3NRK', 'finish_reason': 'stop', 'logprobs': None}, id='run-0c02e3c8-2006-40d3-b6d0-7e7edb6ceb35-0', usage_metadata={'input_tokens': 40, 'output_tokens': 381, 'total_tokens': 421, 'input_token_details': {'audio': 0, 'cache_read': 0}, 'output_token_details': {'audio': 0, 'reasoning': 0}})"
      ]
     },
     "execution_count": 3,
     "metadata": {},
     "output_type": "execute_result"
    }
   ],
   "source": [
    "from langchain_openai import ChatOpenAI\n",
    "\n",
    "llm = ChatOpenAI(model=\"gpt-4o-mini\")\n",
    "llm.invoke(messages)"
   ]
  },
  {
   "cell_type": "markdown",
   "id": "09aa94f7",
   "metadata": {},
   "source": [
    "We can run our chat model in a simple graph with `MessagesState`."
   ]
  },
  {
   "cell_type": "code",
   "execution_count": null,
   "id": "b7945a81",
   "metadata": {},
   "outputs": [],
   "source": []
  }
 ],
 "metadata": {
  "kernelspec": {
   "display_name": "langgraph-course (3.11.13)",
   "language": "python",
   "name": "python3"
  },
  "language_info": {
   "codemirror_mode": {
    "name": "ipython",
    "version": 3
   },
   "file_extension": ".py",
   "mimetype": "text/x-python",
   "name": "python",
   "nbconvert_exporter": "python",
   "pygments_lexer": "ipython3",
   "version": "3.11.13"
  }
 },
 "nbformat": 4,
 "nbformat_minor": 5
}
