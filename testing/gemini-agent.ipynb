{
 "cells": [
  {
   "cell_type": "markdown",
   "id": "55004e6c",
   "metadata": {},
   "source": [
    "### **Agent**\n",
    "\n",
    "##### **Review**\n",
    "\n",
    "We built a router.\n",
    "\n",
    "- Our chat model will decide to make a tool call or not based upo the user input\n",
    "- We use a conditional edge to route to a node that will call our tool or simply end\n",
    "\n",
    "##### **Goals**\n",
    "\n",
    "Now, we can extend this into a generic agent architeture.\n",
    "\n",
    "In the above router, we invoked the model and, if it chose to call a tool, we returned a `ToolMessage` to the user.\n",
    "\n",
    "But, what if we simply pass that `ToolMessage` back to the model?\n",
    "\n",
    "We can let it either (1) call another tool or (2) respond directly.\n",
    "\n",
    "This is the intuition behind *ReAct*, a general agent architeture.\n",
    "\n",
    "- `act` - let the model call specific tools\n",
    "- `observe` - pass the tool output back to the model\n",
    "- `reason` - let the model reason about the tool output to decide what to do next (e.g., call another tool or just respond directly)\n",
    "\n",
    "This *general purpose atchiteture* can be applied to many types of tools."
   ]
  },
  {
   "cell_type": "code",
   "execution_count": 1,
   "id": "bcd589be",
   "metadata": {},
   "outputs": [
    {
     "data": {
      "text/plain": [
       "True"
      ]
     },
     "execution_count": 1,
     "metadata": {},
     "output_type": "execute_result"
    }
   ],
   "source": [
    "import os\n",
    "from dotenv import load_dotenv\n",
    "\n",
    "load_dotenv()"
   ]
  },
  {
   "cell_type": "code",
   "execution_count": 13,
   "id": "7a21e119",
   "metadata": {},
   "outputs": [],
   "source": [
    "from langchain_google_genai import ChatGoogleGenerativeAI\n",
    "from langchain_community.tools.tavily_search import TavilySearchResults\n",
    "\n",
    "tavily_search = TavilySearchResults(max_results=1)\n",
    "\n",
    "def search_online(query: str) -> str:\n",
    "    \"\"\"Search for a query using Tavily.\n",
    "\n",
    "    Args:\n",
    "        query (str): The search query.\n",
    "\n",
    "    Returns:\n",
    "        str: The search result.\n",
    "    \"\"\"\n",
    "    results = tavily_search.invoke(query)\n",
    "    if results:\n",
    "        return results[0][\"content\"]\n",
    "    else:\n",
    "        return \"No results found.\"\n",
    "\n",
    "\n",
    "def multiply(a: int, b: int) -> int:\n",
    "    \"\"\"Multiply a and b.\n",
    "\n",
    "    Args:\n",
    "        a (int): First number.\n",
    "        b (int): Second number.\n",
    "    \"\"\"\n",
    "    return a * b\n",
    "\n",
    "\n",
    "def add(a: int, b: int) -> int:\n",
    "    \"\"\"Add a and b.\n",
    "\n",
    "    Args:\n",
    "        a (int): First number.\n",
    "        b (int): Second number.\n",
    "    \"\"\"\n",
    "    return a + b\n",
    "\n",
    "\n",
    "def divide(a: int, b: int) -> float:\n",
    "    \"\"\"Divide a and b.\n",
    "\n",
    "    Args:\n",
    "        a (int): First number.\n",
    "        b (int): Second number.\n",
    "    \"\"\"\n",
    "    return a / b\n",
    "\n",
    "tools = [add, multiply, divide, search_online]\n",
    "llm = ChatGoogleGenerativeAI(model=\"gemini-2.0-flash\", temperature=0)\n",
    "llm_with_tools = llm.bind_tools(tools)"
   ]
  },
  {
   "cell_type": "markdown",
   "id": "3501b424",
   "metadata": {},
   "source": [
    "Let's create our LLM and prompt it with the overall desired agent behavior"
   ]
  },
  {
   "cell_type": "code",
   "execution_count": 14,
   "id": "c5bffa8c",
   "metadata": {},
   "outputs": [],
   "source": [
    "from langgraph.graph import MessagesState\n",
    "from langchain_core.messages import HumanMessage, SystemMessage\n",
    "\n",
    "# System message\n",
    "# sys_msg = SystemMessage(content='You are a helfpul assistant tasked with performing arithmetic on a set of inputs.')\n",
    "sys_msg = SystemMessage(content='You are a helfpul assistant.')\n",
    "\n",
    "# Node\n",
    "def assistant(state: MessagesState):\n",
    "    return {\"messages\": [llm_with_tools.invoke([sys_msg] + state[\"messages\"])]}"
   ]
  },
  {
   "cell_type": "markdown",
   "id": "7a92d461",
   "metadata": {},
   "source": [
    "As before, we use `MessagesState` and define a `Tool` node with our list of tools.\n",
    "\n",
    "The `Assistant` node is just our model with bound tools.\n",
    "\n",
    "We create a graph with `Assistant` and `Tools` nodes.\n",
    "\n",
    "We add `tools_condition` edge, which routes to `END` or to `Tools` based on whether the `Assistant` calls a tool.\n",
    "\n",
    "Now, we add one new step:\n",
    "\n",
    "We connect the `Tools` node *back* to the `Assistant`, forming a loop.\n",
    "\n",
    "- After the `Assistant` node executes, `tools_condition` checks if the model's output is a tool call.\n",
    "- If it is a tool call, the flow is directed to the `tools` node.\n",
    "- The `tools` node connects back to `Assistant`.\n",
    "- This loop continues as long as the model decides to call tools.\n",
    "- Of the model response is not a tool call, the flow is directed to END, terminating the process."
   ]
  },
  {
   "cell_type": "code",
   "execution_count": 15,
   "id": "5e921cd3",
   "metadata": {},
   "outputs": [
    {
     "data": {
      "image/png": "[encoded data removed]",
      "text/plain": [
       "<IPython.core.display.Image object>"
      ]
     },
     "metadata": {},
     "output_type": "display_data"
    }
   ],
   "source": [
    "from langgraph.graph import START, StateGraph\n",
    "from langgraph.prebuilt import tools_condition\n",
    "from langgraph.prebuilt import ToolNode\n",
    "from IPython.display import Image, display\n",
    "\n",
    "# Graph\n",
    "builder = StateGraph(MessagesState)\n",
    "\n",
    "# Define nodes\n",
    "builder.add_node(\"assistant\", assistant)\n",
    "builder.add_node(\"tools\", ToolNode(tools))\n",
    "\n",
    "# Define edges\n",
    "builder.add_edge(START, \"assistant\")\n",
    "builder.add_conditional_edges(\n",
    "    \"assistant\",\n",
    "    # if the latest message (result) from assistant is a tool call -> tools_condition routes to tools\n",
    "    # if the latest message (result) from assistant is not a tool call -> tools_condition routes to end\n",
    "    tools_condition,\n",
    ")\n",
    "\n",
    "builder.add_edge(\"tools\", \"assistant\")\n",
    "react_graph = builder.compile()\n",
    "\n",
    "# Show\n",
    "display(Image(react_graph.get_graph(xray=True).draw_mermaid_png()))"
   ]
  },
  {
   "cell_type": "code",
   "execution_count": 16,
   "id": "454aa196",
   "metadata": {},
   "outputs": [],
   "source": [
    "# messages = [HumanMessage(content=\"Add 3 and 4. Multiply the output by 2, then divide the result by 5\")]\n",
    "messages = [HumanMessage(content=\"Mutiply the year Alber Einstein was born by 2. Then add the year he died.\")]\n",
    "messages = react_graph.invoke({\"messages\": messages})"
   ]
  },
  {
   "cell_type": "code",
   "execution_count": 17,
   "id": "a250ce96",
   "metadata": {},
   "outputs": [
    {
     "name": "stdout",
     "output_type": "stream",
     "text": [
      "================================\u001b[1m Human Message \u001b[0m=================================\n",
      "\n",
      "Mutiply the year Alber Einstein was born by 2. Then add the year he died.\n",
      "==================================\u001b[1m Ai Message \u001b[0m==================================\n",
      "Tool Calls:\n",
      "  search_online (027738e7-c91c-4fdc-ae8a-316c7e249331)\n",
      " Call ID: 027738e7-c91c-4fdc-ae8a-316c7e249331\n",
      "  Args:\n",
      "    query: year Albert Einstein was born\n",
      "  search_online (3b81af99-5b13-48ea-828f-f110832e8290)\n",
      " Call ID: 3b81af99-5b13-48ea-828f-f110832e8290\n",
      "  Args:\n",
      "    query: year Albert Einstein died\n",
      "=================================\u001b[1m Tool Message \u001b[0m=================================\n",
      "Name: search_online\n",
      "\n",
      "Albert Einstein[a] (14 March 1879 – 18 April 1955) was a German-born theoretical physicist who is best known for developing the theory of relativity. Einstein also made important contributions to quantum mechanics.[1][5] His mass–energy equivalence formula E = _mc_2, which arises from special relativity, has been called \"the world's most famous equation\".[6] He received the 1921 Nobel Prize in Physics for his services to theoretical physics, and especially for his discovery of the law of the [...] From Wikipedia, the free encyclopedia\n",
      "German-born physicist (1879–1955)\n",
      "\"Einstein\" redirects here. For other uses, see Einstein (disambiguation) and Albert Einstein (disambiguation).\n",
      "| \n",
      "Albert Einstein\n",
      "|\n",
      "| --- |\n",
      "| \n",
      "Einstein in 1947\n",
      "|\n",
      "| Born | (1879-03-14)14 March 1879  \n",
      "Ulm, Kingdom of Württemberg, German Empire\n",
      "|\n",
      "| Died | 18 April 1955(1955-04-18) (aged 76)  \n",
      "Princeton, New Jersey, U.S.\n",
      "|\n",
      "| Citizenship | \n",
      "See list [...] Albert Einstein was born in Ulm,[15] in the Kingdom of Württemberg in the German Empire, on 14 March 1879. His parents, secular Ashkenazi Jews, were Hermann Einstein, a salesman and engineer, and Pauline Koch. In 1880, the family moved to Munich's borough of Ludwigsvorstadt-Isarvorstadt, where Einstein's father and his uncle Jakob founded Elektrotechnische Fabrik J. Einstein & Cie, a company that manufactured electrical equipment based on direct current.[15] He often related a formative event\n",
      "=================================\u001b[1m Tool Message \u001b[0m=================================\n",
      "Name: search_online\n",
      "\n",
      "Albert Einstein[a] (14 March 1879 – 18 April 1955) was a German-born theoretical physicist who is best known for developing the theory of relativity. Einstein also made important contributions to quantum mechanics.[1][5] His mass–energy equivalence formula E = _mc_2, which arises from special relativity, has been called \"the world's most famous equation\".[6] He received the 1921 Nobel Prize in Physics for his services to theoretical physics, and especially for his discovery of the law of the [...] From Wikipedia, the free encyclopedia\n",
      "German-born physicist (1879–1955)\n",
      "\"Einstein\" redirects here. For other uses, see Einstein (disambiguation) and Albert Einstein (disambiguation).\n",
      "| \n",
      "Albert Einstein\n",
      "|\n",
      "| --- |\n",
      "| \n",
      "Einstein in 1947\n",
      "|\n",
      "| Born | (1879-03-14)14 March 1879  \n",
      "Ulm, Kingdom of Württemberg, German Empire\n",
      "|\n",
      "| Died | 18 April 1955(1955-04-18) (aged 76)  \n",
      "Princeton, New Jersey, U.S.\n",
      "|\n",
      "| Citizenship | \n",
      "See list\n",
      "==================================\u001b[1m Ai Message \u001b[0m==================================\n",
      "Tool Calls:\n",
      "  multiply (86fb001e-65b9-4913-94e1-b0f4dfc01269)\n",
      " Call ID: 86fb001e-65b9-4913-94e1-b0f4dfc01269\n",
      "  Args:\n",
      "    a: 1879.0\n",
      "    b: 2.0\n",
      "=================================\u001b[1m Tool Message \u001b[0m=================================\n",
      "Name: multiply\n",
      "\n",
      "3758\n",
      "==================================\u001b[1m Ai Message \u001b[0m==================================\n",
      "Tool Calls:\n",
      "  add (0b1c0d2d-cd08-4ac1-a422-5c95e826da14)\n",
      " Call ID: 0b1c0d2d-cd08-4ac1-a422-5c95e826da14\n",
      "  Args:\n",
      "    a: 3758.0\n",
      "    b: 1955.0\n",
      "=================================\u001b[1m Tool Message \u001b[0m=================================\n",
      "Name: add\n",
      "\n",
      "5713\n",
      "==================================\u001b[1m Ai Message \u001b[0m==================================\n",
      "\n",
      "The result is 5713.\n"
     ]
    }
   ],
   "source": [
    "for m in messages['messages']:\n",
    "    m.pretty_print()"
   ]
  },
  {
   "cell_type": "markdown",
   "id": "479eb7b5",
   "metadata": {},
   "source": [
    "#### **LangSmith**\n",
    "\n",
    "LangSmith give us tracing.\n",
    "\n",
    "Ensure these enviroment variables are set:\n",
    "\n",
    "    export LANGCHAIN_API_KEY=\"XXX\"\n",
    "    export LANGCHAIN_ENDPOINT=\"https://api.smith.langchain.com\"\n",
    "    export LANGCHAIN_TRACING_V2=true\n",
    "\n",
    "And then set our `LANGCHAIN_PROJECT`."
   ]
  }
 ],
 "metadata": {
  "kernelspec": {
   "display_name": "venv",
   "language": "python",
   "name": "python3"
  },
  "language_info": {
   "codemirror_mode": {
    "name": "ipython",
    "version": 3
   },
   "file_extension": ".py",
   "mimetype": "text/x-python",
   "name": "python",
   "nbconvert_exporter": "python",
   "pygments_lexer": "ipython3",
   "version": "3.12.8"
  }
 },
 "nbformat": 4,
 "nbformat_minor": 5
}
